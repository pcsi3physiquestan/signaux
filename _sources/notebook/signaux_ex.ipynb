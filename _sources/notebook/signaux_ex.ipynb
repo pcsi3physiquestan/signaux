{
 "cells": [
  {
   "cell_type": "markdown",
   "id": "65fbe5cd",
   "metadata": {},
   "source": [
    "# Maitriser les méthodes\n",
    "De manière générale dans les cours, ces parties présentent :\n",
    "* des exercices-types (Méthodes) montrant les méthodes d'applications des théorèmes et principes du cours. __Leur correction est en ligne.__ Il faut les comprendree t savoir les refaire.\n",
    "* des exercices méthodes (Activités) montrant des applications des théorèmes __avec des conclusions des exercices qui doivent être apprises et que vous devez savoir redémontrer.__ (ici l'étude de la modulation en amplitude)\n",
    "* des exercices d'application (Application) : exercices de bases pouvant être faits juste après le travail du cours pour voir si l'on maitrise les méthodes de base.\n",
    "* des exercices d'entrainement (Entrainement) (pas ici): exercices plus évolués à apprendre à maitriser. _Certains éléments de corrections (pas la correction complète) peuvent être en ligne._\n",
    "* des approfondissement (Aller plus loin) : exercices plus complexes à ne traiter que si l'on a bien su faire les exercices précédents. _Ils ne sont en général présents que sur le site._ ([ici](https://moodlecpge.stanislas.fr/mod/resource/view.php?id=135))"
   ]
  }
 ],
 "metadata": {
  "jupytext": {
   "encoding": "# -*- coding: utf-8 -*-",
   "formats": "ipynb,md:myst",
   "split_at_heading": true,
   "text_representation": {
    "extension": ".md",
    "format_name": "myst",
    "format_version": 0.13,
    "jupytext_version": "1.10.3"
   }
  },
  "kernelspec": {
   "display_name": "Python 3",
   "language": "python",
   "name": "python3"
  },
  "language_info": {
   "codemirror_mode": {
    "name": "ipython",
    "version": 3
   },
   "file_extension": ".py",
   "mimetype": "text/x-python",
   "name": "python",
   "nbconvert_exporter": "python",
   "pygments_lexer": "ipython3",
   "version": "3.9.15"
  },
  "source_map": [
   15
  ]
 },
 "nbformat": 4,
 "nbformat_minor": 5
}
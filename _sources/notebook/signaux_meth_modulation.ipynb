{
 "cells": [
  {
   "cell_type": "markdown",
   "id": "31167bca",
   "metadata": {},
   "source": [
    "# Activité : Etudier une modulation en amplitude.\n",
    "_La correction est en ligne et une simulation permet de joueur sur les paramètres d'une modulation est disponible [ici](https://stanislas.edunao.com/mod/resource/view.php?id=12802)._\n",
    "\n",
    "Nous allons étudier le principe de décomposition sur un cas simple où un signal se décompose en une somme finie de composantes spectrales.\n",
    "\n",
    "_La __méthode de linéarisation__ des produits de sinusoïdes, basées sur les relations usuelles en trigonométrie est à maîtriser impérativement. La méthode de tracé du signal est aussi très important._\n",
    "\n",
    "\n",
    "\n",
    "````{admonition} Exercice \n",
    ":class: attention\n",
    "\n",
    "On considère deux signaux sinusoïdaux $u_1(t)$ et $u_2(t)$ de fréquence $f_1$ et $f_2$ d'amplitude $u_{1m}$ et $u_{2m}$ de phase à l'origine nulle tous les deux. On multiplie les deux signaux $u_S(t) = k u_1(t) \\times u_2(t)$ avec k une constante connue.\n",
    "\n",
    "* Donner les expressions de $u_1(t)$ et $u_2(t)$ puis de $u_S(t)$\n",
    "* On prend $f_1 = 10 f_2$ et $u_{2m} = 2 u_{1m}$, représenter graphiquement $u_S$. Justifier le terme de modulation en amplitude. Où ce principe est utilisé?\n",
    "* Montrer que le signal se décompose comme la somme de deux composantes spectrales dont on déterminera la fréquence et l'amplitude.\n",
    "* Représenter le spectre du signal $u_S$.\n",
    "````\n",
    "\n",
    "````{topic} Correction\n",
    ">__1.__\n",
    ">Les deux signaux entrant s'écrivent : $u_1(t) = u_{1m} \\cos (2 \\pi f_1 t)$ et $u_2(t) = u_{2m} \\cos (2 \\pi f_2 t)$\n",
    "\n",
    ">Il vient pour le signal de sortie : $u_S(t) = k u_{1m} u_{2m} \\cos (2 \\pi f_1 t) \\cos (2 \\pi f_2 t) $\n",
    "\n",
    ">__2.__\n",
    "\n",
    ">Le tracé d'une telle fonction ne doit pas nécessiter une calculatrice et doit faire apparaître des caractéristiques précises :\n",
    ">* On commence par tracer l'__enveloppe__ (trait discontinu) qui correspond à l'amplitude variable $k u_{1m} u_{2m} \\cos (2 \\pi f_2 t)$ et son opposé (la fonction $u_S(t)$ atteindra ces enveloppes quand $\\cos (2 \\pi f_1 t)$ sera égale à 1 et -1. Cela dessine les valeurs maximales accessibles, d'où le nom d'enveloppe. Il faut repérer les valeurs maximales et minimales de l'enveloppe, ici $k u_{1m} u_{2m}$ et  $-k u_{1m} u_{2m}$\n",
    ">* On trace alors la fonction comme un sinusoïde contenu dans l'enveloppe. Il faut faire attention au nombre de sinusoïde dans une période (il doit ici y en avoir 10 car $f_1 = 10 f_2$)\n",
    "\n",
    "```{figure} ./images/temporelle_module.png\n",
    ":name: modulation\n",
    ":align: center\n",
    ":width: 50%\n",
    "Modulation d'amplitude\n",
    "```\n",
    ">__3.__\n",
    "> Pour obtenir le spectre lorsque le signal est un produit de sinusoïde, il faut procéder par __linéarisation__.\n",
    ">\n",
    ">$$\n",
    "u_S(t) = \\frac{k u_{1m} u_{2m} }{2} \\left( \\cos(2 \\pi (f_1 + f_2) t) + \\cos(2\\pi (f_1 - f_2)t) \\right)\n",
    "$$\n",
    ">\n",
    ">Le spectre est donc composée de deux composantes de fréquences $f_1 + f_2 = 11 f_2$ et $f_1 - f_2 = 9 f_2$. Elles ont toutes les deux une amplitude $ \\frac{k u_{1m} u_{2m} }{2} $.\n",
    "\n",
    "```{figure} ./images/spectre_module.png\n",
    ":name: spectre_mod\n",
    ":align: center\n",
    ":width: 50%\n",
    "Spectre du signal modulé\n",
    "```\n",
    "````\n",
    "\n",
    "```{important} \n",
    "A retenir\n",
    "\n",
    "Il faut savoir :\n",
    "* reconnaître un cas de modulation d'amplitude : un __produit__ de sinusoïdes dont __la fréquence de l'un est grande devant la fréquence de l'autre__.\n",
    "    * On peut écrire $u_S(t)$ sous la forme : $ \\left [ k u_{1m} u_{2m} \\cos (2 \\pi f_2 t) \\right ] \\cos (2 \\pi f_1 t)$. Puisque $f_2$ est faible, on peut considérer que sur une période du signal rapide de fréquence $f_1$, la grandeur $k u_{1m} u_{2m} \\cos (2 \\pi f_2 t)$ est quasi-constante et représente donc sur une période, l'amplitude du sinusoïde $ \\cos (2 \\pi f_1 t)$. Mais comme d'une période à l'autre l'amplitude varie, on parle de __modulation d'amplitude__.\n",
    "* Le signal lent de fréquence $f_2$ est appelé __signal modulant__ et le signal rapide est appelé __signal porteur.__ Le signal sortant est appelé __signal modulé__.\n",
    "* réaliser un tracé correct d'un signal modulé en amplitude en tenant du rapport de fréquences\n",
    "* Linéariser le produit pour obtenir le spectre du signal.\n",
    "```"
   ]
  }
 ],
 "metadata": {
  "jupytext": {
   "encoding": "# -*- coding: utf-8 -*-",
   "formats": "ipynb,md:myst",
   "split_at_heading": true,
   "text_representation": {
    "extension": ".md",
    "format_name": "myst",
    "format_version": 0.13,
    "jupytext_version": "1.10.3"
   }
  },
  "kernelspec": {
   "display_name": "Python 3",
   "language": "python",
   "name": "python3"
  },
  "language_info": {
   "codemirror_mode": {
    "name": "ipython",
    "version": 3
   },
   "file_extension": ".py",
   "mimetype": "text/x-python",
   "name": "python",
   "nbconvert_exporter": "python",
   "pygments_lexer": "ipython3",
   "version": "3.7.12"
  },
  "source_map": [
   15
  ]
 },
 "nbformat": 4,
 "nbformat_minor": 5
}
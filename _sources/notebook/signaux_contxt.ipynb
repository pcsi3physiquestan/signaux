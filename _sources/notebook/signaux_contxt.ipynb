{
 "cells": [
  {
   "cell_type": "markdown",
   "id": "d4e29ddb",
   "metadata": {},
   "source": [
    "# Connaître le contexte\n",
    "\n",
    "De manière générale dans les cours, ces parties présentent :\n",
    "* le contexte d'étude (but, ordre de grandeur, postulat d'étude...)\n",
    "* les éléments importants __à connaître par coeur__ (définitions, propriétés, principes et lois, théorèmes...)\n",
    "* quelques démonstrations __à connaître par coeur__"
   ]
  }
 ],
 "metadata": {
  "jupytext": {
   "encoding": "# -*- coding: utf-8 -*-",
   "formats": "ipynb,md:myst",
   "split_at_heading": true,
   "text_representation": {
    "extension": ".md",
    "format_name": "myst",
    "format_version": 0.13,
    "jupytext_version": "1.10.3"
   }
  },
  "kernelspec": {
   "display_name": "Python 3",
   "language": "python",
   "name": "python3"
  },
  "language_info": {
   "codemirror_mode": {
    "name": "ipython",
    "version": 3
   },
   "file_extension": ".py",
   "mimetype": "text/x-python",
   "name": "python",
   "nbconvert_exporter": "python",
   "pygments_lexer": "ipython3",
   "version": "3.7.12"
  },
  "source_map": [
   15
  ]
 },
 "nbformat": 4,
 "nbformat_minor": 5
}
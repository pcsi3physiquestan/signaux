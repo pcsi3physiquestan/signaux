{
 "cells": [
  {
   "cell_type": "markdown",
   "id": "liked-content",
   "metadata": {},
   "source": [
    "# Description des signaux physiques\n",
    "\n",
    "Ce chapitre présente les méthodes de description mathématique des signaux :\n",
    "* la méthode déjà connue de description __temporelle__ $s(t)$\n",
    "* la méthode de description __fréquentielle__\n",
    "\n",
    "````{admonition} Objectifs\n",
    ":class: tip\n",
    "* Savoir que l'on peut décomposer un signal périodique en une somme de fonction sinusoïdales\n",
    "* Déterminer les caractéristiques d'un signal sinusoïdal par son expression mathématique\n",
    "* Déterminer les caractéristiques d'un signal sinusoïdal par son tracé graphique\n",
    "* Calculer la valeur moyenne et la valeur efficace d'un signal périodique\n",
    "* Savoir que le carré de la valeur efficace d'un signal périodique est la somme des carrés des valeurs efficaces de ses harmoniques\n",
    "* Analyser les caractéristiques d'un signal périodique grâce au tracé de son spectre\n",
    "* Représenter le spectre d'un signal périodique dont on connaît la somme.\n",
    "* Linéariser un produit de sinusoïde pour déterminer le spectre du signal\n",
    "* Citer les différentes gammes de fréquences pour les types de signaux usuels (électromagnétiques, sonores... )\n",
    "* Caractériser une source lumineuse par son spectre.\n",
    "\n",
    "````"
   ]
  }
 ],
 "metadata": {
  "jupytext": {
   "encoding": "# -*- coding: utf-8 -*-",
   "formats": "ipynb,md:myst",
   "split_at_heading": true,
   "text_representation": {
    "extension": ".md",
    "format_name": "myst",
    "format_version": 0.13,
    "jupytext_version": "1.10.3"
   }
  },
  "kernelspec": {
   "display_name": "Python 3",
   "language": "python",
   "name": "python3"
  },
  "language_info": {
   "codemirror_mode": {
    "name": "ipython",
    "version": 3
   },
   "file_extension": ".py",
   "mimetype": "text/x-python",
   "name": "python",
   "nbconvert_exporter": "python",
   "pygments_lexer": "ipython3",
   "version": "3.9.2"
  },
  "source_map": [
   15
  ]
 },
 "nbformat": 4,
 "nbformat_minor": 5
}